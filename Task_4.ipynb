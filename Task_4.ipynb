{
 "cells": [
  {
   "cell_type": "markdown",
   "id": "5e8dd35b-2c99-4862-9644-4ad62bde7296",
   "metadata": {},
   "source": [
    "### Task 4\n",
    "### Day 5 | June 27th 2025 \n",
    " \n",
    "\n",
    "## <span style=\"color:maroon\"> **Metabolic Data Analysis and Visualization with Python**\n"
   ]
  },
  {
   "cell_type": "markdown",
   "id": "626982be-6c1c-4f0d-aca5-236efe409cfa",
   "metadata": {},
   "source": [
    "## Data Visualization :\n",
    ">Designing and creating graphic or visual representations of a large amount of complex quantitative and qualitative data and information.\n",
    "\n",
    "## Importing libraries \n",
    "- *Pandas:* Provides high-performance, easy-to-use data structures and data analysis tools.\n",
    "- *Matplotlib and Seaborn:* Used for Data visualization.\n",
    "- *Plotly:* Provides interactive web-based visuals. "
   ]
  },
  {
   "cell_type": "code",
   "execution_count": 290,
   "id": "2b36668c-b33d-4823-886f-ec0af32526d4",
   "metadata": {},
   "outputs": [],
   "source": [
    "#After installing libraries, we need to import them to use in the notebook. \n",
    "import pandas as pd\n",
    "import seaborn as sns \n",
    "import matplotlib as plt \n",
    "import plotly.express as px"
   ]
  },
  {
   "cell_type": "markdown",
   "id": "8abebf89-ef54-42ec-94d9-d3f977135d7c",
   "metadata": {},
   "source": [
    "#### DataFrame is a 2-dimensional data structure that can store data of different types.\n",
    "(including characters, integers, floating point values, categorical data and more) in columns. \n",
    "\n",
    ">Dictionary and Dataframes are almost similar.\n",
    ">\n",
    ">In Dataframes the size of every array must be same.\n",
    ">\n",
    ">Dictionary keys in dataframes are called: Column Headers.\n",
    ">\n",
    ">Dictionary values in dataframes are called: Column values."
   ]
  },
  {
   "cell_type": "markdown",
   "id": "598a6bf5-a04d-4a08-98e3-b9e3d30841be",
   "metadata": {},
   "source": [
    "## 1.Loading the Datset \n",
    "Loading the dataset to our notebook, and storing it as the variable \"df\" "
   ]
  },
  {
   "cell_type": "code",
   "execution_count": 293,
   "id": "a09b632e-6469-4bd7-8623-64c30ddc955e",
   "metadata": {},
   "outputs": [],
   "source": [
    "df = pd.read_csv('metabolic_dataset.csv')       #using pd.read_csv () to load dataset. (dataset can also be created)"
   ]
  },
  {
   "cell_type": "markdown",
   "id": "8913d0c8-1e71-4ce1-9bbb-d1695d4ca868",
   "metadata": {},
   "source": [
    "## Displaying the Dataset \n",
    "- Displaying the dataset, to see the no. of columns, types of data in each category and take an overview of the data present. "
   ]
  },
  {
   "cell_type": "code",
   "execution_count": 295,
   "id": "42bda919-7e21-4670-aeb8-7065628c2b19",
   "metadata": {},
   "outputs": [
    {
     "data": {
      "text/html": [
       "<div>\n",
       "<style scoped>\n",
       "    .dataframe tbody tr th:only-of-type {\n",
       "        vertical-align: middle;\n",
       "    }\n",
       "\n",
       "    .dataframe tbody tr th {\n",
       "        vertical-align: top;\n",
       "    }\n",
       "\n",
       "    .dataframe thead th {\n",
       "        text-align: right;\n",
       "    }\n",
       "</style>\n",
       "<table border=\"1\" class=\"dataframe\">\n",
       "  <thead>\n",
       "    <tr style=\"text-align: right;\">\n",
       "      <th></th>\n",
       "      <th>Metabolite</th>\n",
       "      <th>Condition</th>\n",
       "      <th>Replicate</th>\n",
       "      <th>Concentration</th>\n",
       "      <th>Units</th>\n",
       "    </tr>\n",
       "  </thead>\n",
       "  <tbody>\n",
       "    <tr>\n",
       "      <th>0</th>\n",
       "      <td>Metabolite1</td>\n",
       "      <td>Control</td>\n",
       "      <td>1</td>\n",
       "      <td>80.281301</td>\n",
       "      <td>μM</td>\n",
       "    </tr>\n",
       "    <tr>\n",
       "      <th>1</th>\n",
       "      <td>Metabolite1</td>\n",
       "      <td>Control</td>\n",
       "      <td>2</td>\n",
       "      <td>84.658008</td>\n",
       "      <td>μM</td>\n",
       "    </tr>\n",
       "    <tr>\n",
       "      <th>2</th>\n",
       "      <td>Metabolite1</td>\n",
       "      <td>Control</td>\n",
       "      <td>3</td>\n",
       "      <td>75.872092</td>\n",
       "      <td>μM</td>\n",
       "    </tr>\n",
       "    <tr>\n",
       "      <th>3</th>\n",
       "      <td>Metabolite1</td>\n",
       "      <td>Control</td>\n",
       "      <td>4</td>\n",
       "      <td>75.872174</td>\n",
       "      <td>μM</td>\n",
       "    </tr>\n",
       "    <tr>\n",
       "      <th>4</th>\n",
       "      <td>Metabolite1</td>\n",
       "      <td>Control</td>\n",
       "      <td>5</td>\n",
       "      <td>84.938922</td>\n",
       "      <td>μM</td>\n",
       "    </tr>\n",
       "  </tbody>\n",
       "</table>\n",
       "</div>"
      ],
      "text/plain": [
       "    Metabolite Condition  Replicate  Concentration Units\n",
       "0  Metabolite1   Control          1      80.281301    μM\n",
       "1  Metabolite1   Control          2      84.658008    μM\n",
       "2  Metabolite1   Control          3      75.872092    μM\n",
       "3  Metabolite1   Control          4      75.872174    μM\n",
       "4  Metabolite1   Control          5      84.938922    μM"
      ]
     },
     "execution_count": 295,
     "metadata": {},
     "output_type": "execute_result"
    }
   ],
   "source": [
    "df.head(5)         #Using head to display the top of the df. \n",
    "                   #We can customize the number of rows to be displayed by giving a value. "
   ]
  },
  {
   "cell_type": "code",
   "execution_count": 296,
   "id": "d8c3c6ed-559e-496f-afb9-30e1f37066a1",
   "metadata": {},
   "outputs": [
    {
     "data": {
      "text/html": [
       "<div>\n",
       "<style scoped>\n",
       "    .dataframe tbody tr th:only-of-type {\n",
       "        vertical-align: middle;\n",
       "    }\n",
       "\n",
       "    .dataframe tbody tr th {\n",
       "        vertical-align: top;\n",
       "    }\n",
       "\n",
       "    .dataframe thead th {\n",
       "        text-align: right;\n",
       "    }\n",
       "</style>\n",
       "<table border=\"1\" class=\"dataframe\">\n",
       "  <thead>\n",
       "    <tr style=\"text-align: right;\">\n",
       "      <th></th>\n",
       "      <th>Metabolite</th>\n",
       "      <th>Condition</th>\n",
       "      <th>Replicate</th>\n",
       "      <th>Concentration</th>\n",
       "      <th>Units</th>\n",
       "    </tr>\n",
       "  </thead>\n",
       "  <tbody>\n",
       "    <tr>\n",
       "      <th>97</th>\n",
       "      <td>Metabolite10</td>\n",
       "      <td>Treatment</td>\n",
       "      <td>3</td>\n",
       "      <td>83.688874</td>\n",
       "      <td>μM</td>\n",
       "    </tr>\n",
       "    <tr>\n",
       "      <th>98</th>\n",
       "      <td>Metabolite10</td>\n",
       "      <td>Treatment</td>\n",
       "      <td>4</td>\n",
       "      <td>82.007579</td>\n",
       "      <td>μM</td>\n",
       "    </tr>\n",
       "    <tr>\n",
       "      <th>99</th>\n",
       "      <td>Metabolite10</td>\n",
       "      <td>Treatment</td>\n",
       "      <td>5</td>\n",
       "      <td>76.337747</td>\n",
       "      <td>μM</td>\n",
       "    </tr>\n",
       "  </tbody>\n",
       "</table>\n",
       "</div>"
      ],
      "text/plain": [
       "      Metabolite  Condition  Replicate  Concentration Units\n",
       "97  Metabolite10  Treatment          3      83.688874    μM\n",
       "98  Metabolite10  Treatment          4      82.007579    μM\n",
       "99  Metabolite10  Treatment          5      76.337747    μM"
      ]
     },
     "execution_count": 296,
     "metadata": {},
     "output_type": "execute_result"
    }
   ],
   "source": [
    "df.tail(3)         #To display botton values. "
   ]
  },
  {
   "cell_type": "markdown",
   "id": "7f6327a5-298a-4bf8-8c3c-2398d13a7d3e",
   "metadata": {},
   "source": [
    "## Exploring the dataset \n",
    "- Displaying the dataset, showed us that total 100 row and 5 columns are present.\n",
    "- It also shows each type of data present in the columns.\n",
    "- Column in a dataframe is called series."
   ]
  },
  {
   "cell_type": "code",
   "execution_count": 298,
   "id": "ef702b63-400c-4ed4-90ad-43b95af28c95",
   "metadata": {},
   "outputs": [
    {
     "data": {
      "text/plain": [
       "pandas.core.frame.DataFrame"
      ]
     },
     "execution_count": 298,
     "metadata": {},
     "output_type": "execute_result"
    }
   ],
   "source": [
    "type(df)      #to find type of df"
   ]
  },
  {
   "cell_type": "code",
   "execution_count": 299,
   "id": "79290ffb-2a65-435e-9578-834bf1693706",
   "metadata": {},
   "outputs": [
    {
     "name": "stdout",
     "output_type": "stream",
     "text": [
      "<class 'pandas.core.frame.DataFrame'>\n",
      "RangeIndex: 100 entries, 0 to 99\n",
      "Data columns (total 5 columns):\n",
      " #   Column         Non-Null Count  Dtype  \n",
      "---  ------         --------------  -----  \n",
      " 0   Metabolite     100 non-null    object \n",
      " 1   Condition      100 non-null    object \n",
      " 2   Replicate      100 non-null    int64  \n",
      " 3   Concentration  95 non-null     float64\n",
      " 4   Units          100 non-null    object \n",
      "dtypes: float64(1), int64(1), object(3)\n",
      "memory usage: 4.0+ KB\n"
     ]
    }
   ],
   "source": [
    "df.info()                  #gives information of complete dataframe\n",
    "                           #data type of each column is also given with non null count "
   ]
  },
  {
   "cell_type": "code",
   "execution_count": 300,
   "id": "1eba5d68-c7fe-4e91-ab77-c620ce05ae5f",
   "metadata": {},
   "outputs": [
    {
     "data": {
      "text/plain": [
       "0      Metabolite1\n",
       "1      Metabolite1\n",
       "2      Metabolite1\n",
       "3      Metabolite1\n",
       "4      Metabolite1\n",
       "          ...     \n",
       "95    Metabolite10\n",
       "96    Metabolite10\n",
       "97    Metabolite10\n",
       "98    Metabolite10\n",
       "99    Metabolite10\n",
       "Name: Metabolite, Length: 100, dtype: object"
      ]
     },
     "execution_count": 300,
     "metadata": {},
     "output_type": "execute_result"
    }
   ],
   "source": [
    "col1 =df[\"Metabolite\"]     #selecting individual column from a dataset\n",
    "col1                       #displays, columns, its length and datatype"
   ]
  },
  {
   "cell_type": "code",
   "execution_count": 301,
   "id": "de856801-bfa8-496b-8cf1-6dd07a910eb9",
   "metadata": {},
   "outputs": [
    {
     "data": {
      "text/plain": [
       "(100, 5)"
      ]
     },
     "execution_count": 301,
     "metadata": {},
     "output_type": "execute_result"
    }
   ],
   "source": [
    "df.shape        #another way of finding rows and columns. "
   ]
  },
  {
   "cell_type": "markdown",
   "id": "227ef351-34c6-4a92-84c0-370cbed3da09",
   "metadata": {},
   "source": [
    "## Handling missing values \n",
    "- Check for missing values in the Concentration column using.  \n",
    "- Fill missing values with the median concentration for the respective Metabolite and Condition combination.  "
   ]
  },
  {
   "cell_type": "code",
   "execution_count": 384,
   "id": "2643abe8-bbb3-4dcb-9246-62c9cc709bb8",
   "metadata": {},
   "outputs": [
    {
     "name": "stderr",
     "output_type": "stream",
     "text": [
      "C:\\Users\\hp\\AppData\\Local\\Temp\\ipykernel_12876\\13627645.py:12: FutureWarning:\n",
      "\n",
      "A value is trying to be set on a copy of a DataFrame or Series through chained assignment using an inplace method.\n",
      "The behavior will change in pandas 3.0. This inplace method will never work because the intermediate object on which we are setting values always behaves as a copy.\n",
      "\n",
      "For example, when doing 'df[col].method(value, inplace=True)', try using 'df.method({col: value}, inplace=True)' or df[col] = df[col].method(value) instead, to perform the operation inplace on the original object.\n",
      "\n",
      "\n",
      "\n"
     ]
    },
    {
     "data": {
      "text/plain": [
       "Metabolite       0\n",
       "Condition        0\n",
       "Replicate        0\n",
       "Concentration    0\n",
       "Units            0\n",
       "dtype: int64"
      ]
     },
     "execution_count": 384,
     "metadata": {},
     "output_type": "execute_result"
    }
   ],
   "source": [
    "def handle_missing_values(df):            #defining a function \n",
    "\n",
    "#Checking for missing values in the Concentration column\n",
    "#using isna() to check missing values, and sum() to count them\n",
    "#storing results in missing_values variable    \n",
    "    missing_values = df['Concentration'].isna().sum()\n",
    "\n",
    "#finding the median of concentration for each metabolite and its condition\n",
    "    median = df.groupby(['Metabolite', 'Condition'])['Concentration'].median()    #using .group() \n",
    "\n",
    "#filled the missing values in concentration with median     \n",
    "    df['Concentration'].fillna(df.groupby(['Metabolite', 'Condition'])['Concentration'].transform('median'), inplace=True)  \n",
    "        \n",
    "    return df         #returning the modified dataframe \n",
    "\n",
    "cleaned_df = handle_missing_values(df)   #calling function, df is passed as input, results are saved in a new variable \n",
    "cleaned_df.isnull().sum()                #showing a count of missing values "
   ]
  },
  {
   "cell_type": "code",
   "execution_count": 386,
   "id": "4fe93cb0-0133-42c0-b581-e5b57916ef1b",
   "metadata": {},
   "outputs": [
    {
     "data": {
      "text/html": [
       "<div>\n",
       "<style scoped>\n",
       "    .dataframe tbody tr th:only-of-type {\n",
       "        vertical-align: middle;\n",
       "    }\n",
       "\n",
       "    .dataframe tbody tr th {\n",
       "        vertical-align: top;\n",
       "    }\n",
       "\n",
       "    .dataframe thead th {\n",
       "        text-align: right;\n",
       "    }\n",
       "</style>\n",
       "<table border=\"1\" class=\"dataframe\">\n",
       "  <thead>\n",
       "    <tr style=\"text-align: right;\">\n",
       "      <th></th>\n",
       "      <th>Metabolite</th>\n",
       "      <th>Condition</th>\n",
       "      <th>Replicate</th>\n",
       "      <th>Concentration</th>\n",
       "      <th>Units</th>\n",
       "    </tr>\n",
       "  </thead>\n",
       "  <tbody>\n",
       "    <tr>\n",
       "      <th>0</th>\n",
       "      <td>Metabolite1</td>\n",
       "      <td>Control</td>\n",
       "      <td>1</td>\n",
       "      <td>80.281301</td>\n",
       "      <td>μM</td>\n",
       "    </tr>\n",
       "    <tr>\n",
       "      <th>1</th>\n",
       "      <td>Metabolite1</td>\n",
       "      <td>Control</td>\n",
       "      <td>2</td>\n",
       "      <td>84.658008</td>\n",
       "      <td>μM</td>\n",
       "    </tr>\n",
       "    <tr>\n",
       "      <th>2</th>\n",
       "      <td>Metabolite1</td>\n",
       "      <td>Control</td>\n",
       "      <td>3</td>\n",
       "      <td>75.872092</td>\n",
       "      <td>μM</td>\n",
       "    </tr>\n",
       "    <tr>\n",
       "      <th>3</th>\n",
       "      <td>Metabolite1</td>\n",
       "      <td>Control</td>\n",
       "      <td>4</td>\n",
       "      <td>75.872174</td>\n",
       "      <td>μM</td>\n",
       "    </tr>\n",
       "    <tr>\n",
       "      <th>4</th>\n",
       "      <td>Metabolite1</td>\n",
       "      <td>Control</td>\n",
       "      <td>5</td>\n",
       "      <td>84.938922</td>\n",
       "      <td>μM</td>\n",
       "    </tr>\n",
       "    <tr>\n",
       "      <th>5</th>\n",
       "      <td>Metabolite1</td>\n",
       "      <td>Treatment</td>\n",
       "      <td>1</td>\n",
       "      <td>74.719990</td>\n",
       "      <td>μM</td>\n",
       "    </tr>\n",
       "    <tr>\n",
       "      <th>6</th>\n",
       "      <td>Metabolite1</td>\n",
       "      <td>Treatment</td>\n",
       "      <td>2</td>\n",
       "      <td>74.695486</td>\n",
       "      <td>μM</td>\n",
       "    </tr>\n",
       "    <tr>\n",
       "      <th>7</th>\n",
       "      <td>Metabolite1</td>\n",
       "      <td>Treatment</td>\n",
       "      <td>3</td>\n",
       "      <td>79.755659</td>\n",
       "      <td>μM</td>\n",
       "    </tr>\n",
       "    <tr>\n",
       "      <th>8</th>\n",
       "      <td>Metabolite1</td>\n",
       "      <td>Treatment</td>\n",
       "      <td>4</td>\n",
       "      <td>74.725770</td>\n",
       "      <td>μM</td>\n",
       "    </tr>\n",
       "    <tr>\n",
       "      <th>9</th>\n",
       "      <td>Metabolite1</td>\n",
       "      <td>Treatment</td>\n",
       "      <td>5</td>\n",
       "      <td>74.714210</td>\n",
       "      <td>μM</td>\n",
       "    </tr>\n",
       "  </tbody>\n",
       "</table>\n",
       "</div>"
      ],
      "text/plain": [
       "    Metabolite  Condition  Replicate  Concentration Units\n",
       "0  Metabolite1    Control          1      80.281301    μM\n",
       "1  Metabolite1    Control          2      84.658008    μM\n",
       "2  Metabolite1    Control          3      75.872092    μM\n",
       "3  Metabolite1    Control          4      75.872174    μM\n",
       "4  Metabolite1    Control          5      84.938922    μM\n",
       "5  Metabolite1  Treatment          1      74.719990    μM\n",
       "6  Metabolite1  Treatment          2      74.695486    μM\n",
       "7  Metabolite1  Treatment          3      79.755659    μM\n",
       "8  Metabolite1  Treatment          4      74.725770    μM\n",
       "9  Metabolite1  Treatment          5      74.714210    μM"
      ]
     },
     "execution_count": 386,
     "metadata": {},
     "output_type": "execute_result"
    }
   ],
   "source": [
    "cleaned_df.head(10)       #displaying our modified dataset for conformation "
   ]
  },
  {
   "cell_type": "markdown",
   "id": "9964060a-b716-445a-9dcd-1367e5ff072f",
   "metadata": {},
   "source": [
    "## 4.Standardizing Units \n",
    "- Standardize Units, Convert all concentrations to μM. For rows where Units is 'mM', multiply Concentration by 1000 and update Units to 'μM. "
   ]
  },
  {
   "cell_type": "code",
   "execution_count": 388,
   "id": "0f59ddb3-ee04-49e7-bd63-913dba6fec00",
   "metadata": {},
   "outputs": [
    {
     "data": {
      "text/html": [
       "<div>\n",
       "<style scoped>\n",
       "    .dataframe tbody tr th:only-of-type {\n",
       "        vertical-align: middle;\n",
       "    }\n",
       "\n",
       "    .dataframe tbody tr th {\n",
       "        vertical-align: top;\n",
       "    }\n",
       "\n",
       "    .dataframe thead th {\n",
       "        text-align: right;\n",
       "    }\n",
       "</style>\n",
       "<table border=\"1\" class=\"dataframe\">\n",
       "  <thead>\n",
       "    <tr style=\"text-align: right;\">\n",
       "      <th></th>\n",
       "      <th>Metabolite</th>\n",
       "      <th>Condition</th>\n",
       "      <th>Replicate</th>\n",
       "      <th>Concentration</th>\n",
       "      <th>Units</th>\n",
       "    </tr>\n",
       "  </thead>\n",
       "  <tbody>\n",
       "    <tr>\n",
       "      <th>0</th>\n",
       "      <td>Metabolite1</td>\n",
       "      <td>Control</td>\n",
       "      <td>1</td>\n",
       "      <td>80.281301</td>\n",
       "      <td>μM</td>\n",
       "    </tr>\n",
       "    <tr>\n",
       "      <th>1</th>\n",
       "      <td>Metabolite1</td>\n",
       "      <td>Control</td>\n",
       "      <td>2</td>\n",
       "      <td>84.658008</td>\n",
       "      <td>μM</td>\n",
       "    </tr>\n",
       "    <tr>\n",
       "      <th>2</th>\n",
       "      <td>Metabolite1</td>\n",
       "      <td>Control</td>\n",
       "      <td>3</td>\n",
       "      <td>75.872092</td>\n",
       "      <td>μM</td>\n",
       "    </tr>\n",
       "    <tr>\n",
       "      <th>3</th>\n",
       "      <td>Metabolite1</td>\n",
       "      <td>Control</td>\n",
       "      <td>4</td>\n",
       "      <td>75.872174</td>\n",
       "      <td>μM</td>\n",
       "    </tr>\n",
       "    <tr>\n",
       "      <th>4</th>\n",
       "      <td>Metabolite1</td>\n",
       "      <td>Control</td>\n",
       "      <td>5</td>\n",
       "      <td>84.938922</td>\n",
       "      <td>μM</td>\n",
       "    </tr>\n",
       "    <tr>\n",
       "      <th>...</th>\n",
       "      <td>...</td>\n",
       "      <td>...</td>\n",
       "      <td>...</td>\n",
       "      <td>...</td>\n",
       "      <td>...</td>\n",
       "    </tr>\n",
       "    <tr>\n",
       "      <th>95</th>\n",
       "      <td>Metabolite10</td>\n",
       "      <td>Treatment</td>\n",
       "      <td>1</td>\n",
       "      <td>94.497348</td>\n",
       "      <td>μM</td>\n",
       "    </tr>\n",
       "    <tr>\n",
       "      <th>96</th>\n",
       "      <td>Metabolite10</td>\n",
       "      <td>Treatment</td>\n",
       "      <td>2</td>\n",
       "      <td>81.219333</td>\n",
       "      <td>μM</td>\n",
       "    </tr>\n",
       "    <tr>\n",
       "      <th>97</th>\n",
       "      <td>Metabolite10</td>\n",
       "      <td>Treatment</td>\n",
       "      <td>3</td>\n",
       "      <td>83.688874</td>\n",
       "      <td>μM</td>\n",
       "    </tr>\n",
       "    <tr>\n",
       "      <th>98</th>\n",
       "      <td>Metabolite10</td>\n",
       "      <td>Treatment</td>\n",
       "      <td>4</td>\n",
       "      <td>82.007579</td>\n",
       "      <td>μM</td>\n",
       "    </tr>\n",
       "    <tr>\n",
       "      <th>99</th>\n",
       "      <td>Metabolite10</td>\n",
       "      <td>Treatment</td>\n",
       "      <td>5</td>\n",
       "      <td>76.337747</td>\n",
       "      <td>μM</td>\n",
       "    </tr>\n",
       "  </tbody>\n",
       "</table>\n",
       "<p>100 rows × 5 columns</p>\n",
       "</div>"
      ],
      "text/plain": [
       "      Metabolite  Condition  Replicate  Concentration Units\n",
       "0    Metabolite1    Control          1      80.281301    μM\n",
       "1    Metabolite1    Control          2      84.658008    μM\n",
       "2    Metabolite1    Control          3      75.872092    μM\n",
       "3    Metabolite1    Control          4      75.872174    μM\n",
       "4    Metabolite1    Control          5      84.938922    μM\n",
       "..           ...        ...        ...            ...   ...\n",
       "95  Metabolite10  Treatment          1      94.497348    μM\n",
       "96  Metabolite10  Treatment          2      81.219333    μM\n",
       "97  Metabolite10  Treatment          3      83.688874    μM\n",
       "98  Metabolite10  Treatment          4      82.007579    μM\n",
       "99  Metabolite10  Treatment          5      76.337747    μM\n",
       "\n",
       "[100 rows x 5 columns]"
      ]
     },
     "execution_count": 388,
     "metadata": {},
     "output_type": "execute_result"
    }
   ],
   "source": [
    "#Converting all concentrations to μM\n",
    "\n",
    "def standardize_units(cleaned_df):              #defining a function \n",
    "    cleaned_df.loc[cleaned_df['Units'] == 'mM', 'Concentration'] *= 1000   #using loc to select rows where unit is mM, multipllying the corresponding values by 1000, to convert in μM  \n",
    "    return cleaned_df                           #return cleaned dataset \n",
    "\n",
    "perfect_df = standardize_units(cleaned_df)      #calling function and storing results to a new variable \n",
    "perfect_df                                      #displaying the dataset "
   ]
  },
  {
   "cell_type": "markdown",
   "id": "4eafcb53-5c2c-4727-8a5e-3f70f90aaea7",
   "metadata": {},
   "source": [
    "## 5.Identifying and Handling Outliers  \n",
    "o Detect outliers in Concentration.  \n",
    "o Replace outliers with the median concentration of the respective Metabolite and Condition group."
   ]
  },
  {
   "cell_type": "code",
   "execution_count": 396,
   "id": "72a63187-3522-471d-b964-edd28c11690d",
   "metadata": {},
   "outputs": [
    {
     "name": "stdout",
     "output_type": "stream",
     "text": [
      "Total outliers found 100\n"
     ]
    },
    {
     "data": {
      "text/html": [
       "<div>\n",
       "<style scoped>\n",
       "    .dataframe tbody tr th:only-of-type {\n",
       "        vertical-align: middle;\n",
       "    }\n",
       "\n",
       "    .dataframe tbody tr th {\n",
       "        vertical-align: top;\n",
       "    }\n",
       "\n",
       "    .dataframe thead th {\n",
       "        text-align: right;\n",
       "    }\n",
       "</style>\n",
       "<table border=\"1\" class=\"dataframe\">\n",
       "  <thead>\n",
       "    <tr style=\"text-align: right;\">\n",
       "      <th></th>\n",
       "      <th>Metabolite</th>\n",
       "      <th>Condition</th>\n",
       "      <th>Replicate</th>\n",
       "      <th>Concentration</th>\n",
       "      <th>Units</th>\n",
       "    </tr>\n",
       "  </thead>\n",
       "  <tbody>\n",
       "    <tr>\n",
       "      <th>0</th>\n",
       "      <td>Metabolite1</td>\n",
       "      <td>Control</td>\n",
       "      <td>1</td>\n",
       "      <td>80.281301</td>\n",
       "      <td>μM</td>\n",
       "    </tr>\n",
       "    <tr>\n",
       "      <th>1</th>\n",
       "      <td>Metabolite1</td>\n",
       "      <td>Control</td>\n",
       "      <td>2</td>\n",
       "      <td>84.658008</td>\n",
       "      <td>μM</td>\n",
       "    </tr>\n",
       "    <tr>\n",
       "      <th>2</th>\n",
       "      <td>Metabolite1</td>\n",
       "      <td>Control</td>\n",
       "      <td>3</td>\n",
       "      <td>75.872092</td>\n",
       "      <td>μM</td>\n",
       "    </tr>\n",
       "    <tr>\n",
       "      <th>3</th>\n",
       "      <td>Metabolite1</td>\n",
       "      <td>Control</td>\n",
       "      <td>4</td>\n",
       "      <td>75.872174</td>\n",
       "      <td>μM</td>\n",
       "    </tr>\n",
       "    <tr>\n",
       "      <th>4</th>\n",
       "      <td>Metabolite1</td>\n",
       "      <td>Control</td>\n",
       "      <td>5</td>\n",
       "      <td>84.938922</td>\n",
       "      <td>μM</td>\n",
       "    </tr>\n",
       "    <tr>\n",
       "      <th>...</th>\n",
       "      <td>...</td>\n",
       "      <td>...</td>\n",
       "      <td>...</td>\n",
       "      <td>...</td>\n",
       "      <td>...</td>\n",
       "    </tr>\n",
       "    <tr>\n",
       "      <th>95</th>\n",
       "      <td>Metabolite10</td>\n",
       "      <td>Treatment</td>\n",
       "      <td>1</td>\n",
       "      <td>94.497348</td>\n",
       "      <td>μM</td>\n",
       "    </tr>\n",
       "    <tr>\n",
       "      <th>96</th>\n",
       "      <td>Metabolite10</td>\n",
       "      <td>Treatment</td>\n",
       "      <td>2</td>\n",
       "      <td>81.219333</td>\n",
       "      <td>μM</td>\n",
       "    </tr>\n",
       "    <tr>\n",
       "      <th>97</th>\n",
       "      <td>Metabolite10</td>\n",
       "      <td>Treatment</td>\n",
       "      <td>3</td>\n",
       "      <td>83.688874</td>\n",
       "      <td>μM</td>\n",
       "    </tr>\n",
       "    <tr>\n",
       "      <th>98</th>\n",
       "      <td>Metabolite10</td>\n",
       "      <td>Treatment</td>\n",
       "      <td>4</td>\n",
       "      <td>82.007579</td>\n",
       "      <td>μM</td>\n",
       "    </tr>\n",
       "    <tr>\n",
       "      <th>99</th>\n",
       "      <td>Metabolite10</td>\n",
       "      <td>Treatment</td>\n",
       "      <td>5</td>\n",
       "      <td>76.337747</td>\n",
       "      <td>μM</td>\n",
       "    </tr>\n",
       "  </tbody>\n",
       "</table>\n",
       "<p>100 rows × 5 columns</p>\n",
       "</div>"
      ],
      "text/plain": [
       "      Metabolite  Condition  Replicate  Concentration Units\n",
       "0    Metabolite1    Control          1      80.281301    μM\n",
       "1    Metabolite1    Control          2      84.658008    μM\n",
       "2    Metabolite1    Control          3      75.872092    μM\n",
       "3    Metabolite1    Control          4      75.872174    μM\n",
       "4    Metabolite1    Control          5      84.938922    μM\n",
       "..           ...        ...        ...            ...   ...\n",
       "95  Metabolite10  Treatment          1      94.497348    μM\n",
       "96  Metabolite10  Treatment          2      81.219333    μM\n",
       "97  Metabolite10  Treatment          3      83.688874    μM\n",
       "98  Metabolite10  Treatment          4      82.007579    μM\n",
       "99  Metabolite10  Treatment          5      76.337747    μM\n",
       "\n",
       "[100 rows x 5 columns]"
      ]
     },
     "execution_count": 396,
     "metadata": {},
     "output_type": "execute_result"
    }
   ],
   "source": [
    "def outlier_replacing(perfect_df):      #defining a function \n",
    "\n",
    "    #Finding outliers using IQR method \n",
    "    Q1 = perfect_df['Concentration'].quantile(0.25)   #calculating 25th percentile, finding values smaller than 25%\n",
    "    Q3 = perfect_df['Concentration'].quantile(0.75)   #values above 75% \n",
    "    IQR = Q3 - Q1                          #calculating IQR , represents spread of middle 50% data, b/w 25 and 75 percent \n",
    "\n",
    "    #Calculating outlier boundaries, setting cutoffs \n",
    "    lower_bound = Q1 - 1.5 * IQR        #lower boundary, value below this is considered outlier \n",
    "    upper_bound = Q3 + 1.5 * IQR        #upper boundary, value above this is considered outlier \n",
    "\n",
    "    #Finding the outliers\n",
    "    outlier_find = (perfect_df['Concentration'] < lower_bound) | (perfect_df['Concentration'] > upper_bound)   #using boolean, using OR operator, \n",
    "    print(f\"Total outliers found {len(outlier_find)}\")      #to print total no. of outliers found \n",
    "\n",
    "    #Calculating median for each Metabolite Condition group\n",
    "    #Transform method returns a Series aligned with DataFrames index, each row getting median of its Metabolite, Condition group\n",
    "    group_median = perfect_df.groupby(['Metabolite', 'Condition'])['Concentration'].transform('median')\n",
    "\n",
    "    #wherever an outlier is found, its value is changed by the median. \n",
    "    perfect_df.loc[outlier_find, 'Concentration'] = group_median[outlier_find]\n",
    "    return perfect_df\n",
    "\n",
    "df2 = outlier_replacing(perfect_df)       #calling fn and storing result in a new variable \n",
    "df2"
   ]
  },
  {
   "cell_type": "markdown",
   "id": "adbbcae6-5fbd-4f68-950e-ee4a6f743349",
   "metadata": {},
   "source": [
    "## 6. Calculating summary statistics \n",
    "Computing the mean, median, and standard deviation of concentration for each \n",
    "Metabolite under each Condition.\n",
    "\n",
    "Using .groupby() and .agg() for summary statistics. "
   ]
  },
  {
   "cell_type": "code",
   "execution_count": 398,
   "id": "06c14511-c458-4d58-986d-72d7b72712b8",
   "metadata": {},
   "outputs": [
    {
     "data": {
      "text/html": [
       "<div>\n",
       "<style scoped>\n",
       "    .dataframe tbody tr th:only-of-type {\n",
       "        vertical-align: middle;\n",
       "    }\n",
       "\n",
       "    .dataframe tbody tr th {\n",
       "        vertical-align: top;\n",
       "    }\n",
       "\n",
       "    .dataframe thead th {\n",
       "        text-align: right;\n",
       "    }\n",
       "</style>\n",
       "<table border=\"1\" class=\"dataframe\">\n",
       "  <thead>\n",
       "    <tr style=\"text-align: right;\">\n",
       "      <th></th>\n",
       "      <th></th>\n",
       "      <th>mean</th>\n",
       "      <th>std</th>\n",
       "      <th>median</th>\n",
       "    </tr>\n",
       "    <tr>\n",
       "      <th>Metabolite</th>\n",
       "      <th>Condition</th>\n",
       "      <th></th>\n",
       "      <th></th>\n",
       "      <th></th>\n",
       "    </tr>\n",
       "  </thead>\n",
       "  <tbody>\n",
       "    <tr>\n",
       "      <th rowspan=\"2\" valign=\"top\">Metabolite1</th>\n",
       "      <th>Control</th>\n",
       "      <td>80.324499</td>\n",
       "      <td>4.464336</td>\n",
       "      <td>80.281301</td>\n",
       "    </tr>\n",
       "    <tr>\n",
       "      <th>Treatment</th>\n",
       "      <td>75.722223</td>\n",
       "      <td>2.254788</td>\n",
       "      <td>74.719990</td>\n",
       "    </tr>\n",
       "    <tr>\n",
       "      <th rowspan=\"2\" valign=\"top\">Metabolite10</th>\n",
       "      <th>Control</th>\n",
       "      <td>60.479187</td>\n",
       "      <td>4.457130</td>\n",
       "      <td>62.048568</td>\n",
       "    </tr>\n",
       "    <tr>\n",
       "      <th>Treatment</th>\n",
       "      <td>83.550176</td>\n",
       "      <td>6.702451</td>\n",
       "      <td>82.007579</td>\n",
       "    </tr>\n",
       "    <tr>\n",
       "      <th rowspan=\"2\" valign=\"top\">Metabolite2</th>\n",
       "      <th>Control</th>\n",
       "      <td>47.712037</td>\n",
       "      <td>3.698568</td>\n",
       "      <td>47.547589</td>\n",
       "    </tr>\n",
       "    <tr>\n",
       "      <th>Treatment</th>\n",
       "      <td>49.955735</td>\n",
       "      <td>6.000106</td>\n",
       "      <td>50.356504</td>\n",
       "    </tr>\n",
       "    <tr>\n",
       "      <th rowspan=\"2\" valign=\"top\">Metabolite3</th>\n",
       "      <th>Control</th>\n",
       "      <td>20.517690</td>\n",
       "      <td>2.788214</td>\n",
       "      <td>19.783831</td>\n",
       "    </tr>\n",
       "    <tr>\n",
       "      <th>Treatment</th>\n",
       "      <td>43.169796</td>\n",
       "      <td>6.465101</td>\n",
       "      <td>42.719539</td>\n",
       "    </tr>\n",
       "    <tr>\n",
       "      <th rowspan=\"2\" valign=\"top\">Metabolite4</th>\n",
       "      <th>Control</th>\n",
       "      <td>50.866943</td>\n",
       "      <td>3.847219</td>\n",
       "      <td>52.060923</td>\n",
       "    </tr>\n",
       "    <tr>\n",
       "      <th>Treatment</th>\n",
       "      <td>49.301095</td>\n",
       "      <td>4.609969</td>\n",
       "      <td>48.900887</td>\n",
       "    </tr>\n",
       "    <tr>\n",
       "      <th rowspan=\"2\" valign=\"top\">Metabolite5</th>\n",
       "      <th>Control</th>\n",
       "      <td>53.466520</td>\n",
       "      <td>3.522192</td>\n",
       "      <td>54.182185</td>\n",
       "    </tr>\n",
       "    <tr>\n",
       "      <th>Treatment</th>\n",
       "      <td>53.651424</td>\n",
       "      <td>3.945831</td>\n",
       "      <td>54.218082</td>\n",
       "    </tr>\n",
       "    <tr>\n",
       "      <th rowspan=\"2\" valign=\"top\">Metabolite6</th>\n",
       "      <th>Control</th>\n",
       "      <td>23.607715</td>\n",
       "      <td>5.674057</td>\n",
       "      <td>23.453450</td>\n",
       "    </tr>\n",
       "    <tr>\n",
       "      <th>Treatment</th>\n",
       "      <td>26.432982</td>\n",
       "      <td>4.091046</td>\n",
       "      <td>25.621681</td>\n",
       "    </tr>\n",
       "    <tr>\n",
       "      <th rowspan=\"2\" valign=\"top\">Metabolite7</th>\n",
       "      <th>Control</th>\n",
       "      <td>108.053252</td>\n",
       "      <td>57.759273</td>\n",
       "      <td>150.000000</td>\n",
       "    </tr>\n",
       "    <tr>\n",
       "      <th>Treatment</th>\n",
       "      <td>30.793521</td>\n",
       "      <td>3.841770</td>\n",
       "      <td>29.971337</td>\n",
       "    </tr>\n",
       "    <tr>\n",
       "      <th rowspan=\"2\" valign=\"top\">Metabolite8</th>\n",
       "      <th>Control</th>\n",
       "      <td>24.466194</td>\n",
       "      <td>3.404304</td>\n",
       "      <td>24.186280</td>\n",
       "    </tr>\n",
       "    <tr>\n",
       "      <th>Treatment</th>\n",
       "      <td>25.168069</td>\n",
       "      <td>3.308173</td>\n",
       "      <td>25.104182</td>\n",
       "    </tr>\n",
       "    <tr>\n",
       "      <th rowspan=\"2\" valign=\"top\">Metabolite9</th>\n",
       "      <th>Control</th>\n",
       "      <td>46.215224</td>\n",
       "      <td>1.144872</td>\n",
       "      <td>46.931744</td>\n",
       "    </tr>\n",
       "    <tr>\n",
       "      <th>Treatment</th>\n",
       "      <td>44.303595</td>\n",
       "      <td>2.204139</td>\n",
       "      <td>43.912895</td>\n",
       "    </tr>\n",
       "  </tbody>\n",
       "</table>\n",
       "</div>"
      ],
      "text/plain": [
       "                              mean        std      median\n",
       "Metabolite   Condition                                   \n",
       "Metabolite1  Control     80.324499   4.464336   80.281301\n",
       "             Treatment   75.722223   2.254788   74.719990\n",
       "Metabolite10 Control     60.479187   4.457130   62.048568\n",
       "             Treatment   83.550176   6.702451   82.007579\n",
       "Metabolite2  Control     47.712037   3.698568   47.547589\n",
       "             Treatment   49.955735   6.000106   50.356504\n",
       "Metabolite3  Control     20.517690   2.788214   19.783831\n",
       "             Treatment   43.169796   6.465101   42.719539\n",
       "Metabolite4  Control     50.866943   3.847219   52.060923\n",
       "             Treatment   49.301095   4.609969   48.900887\n",
       "Metabolite5  Control     53.466520   3.522192   54.182185\n",
       "             Treatment   53.651424   3.945831   54.218082\n",
       "Metabolite6  Control     23.607715   5.674057   23.453450\n",
       "             Treatment   26.432982   4.091046   25.621681\n",
       "Metabolite7  Control    108.053252  57.759273  150.000000\n",
       "             Treatment   30.793521   3.841770   29.971337\n",
       "Metabolite8  Control     24.466194   3.404304   24.186280\n",
       "             Treatment   25.168069   3.308173   25.104182\n",
       "Metabolite9  Control     46.215224   1.144872   46.931744\n",
       "             Treatment   44.303595   2.204139   43.912895"
      ]
     },
     "execution_count": 398,
     "metadata": {},
     "output_type": "execute_result"
    }
   ],
   "source": [
    "#grouped values and used .agg() for statistics \n",
    "stats_df = df2.groupby(['Metabolite', 'Condition'])['Concentration'].agg(['mean','std','median'])\n",
    "stats_df"
   ]
  },
  {
   "cell_type": "markdown",
   "id": "d456dc08-68b4-4e8e-864e-0db8357bb2af",
   "metadata": {},
   "source": [
    "## 7. Group and Aggregate Data \n",
    "- Group the data by Metabolite and Condition, then calculate the mean \n",
    "Concentration for each group. "
   ]
  },
  {
   "cell_type": "code",
   "execution_count": 312,
   "id": "1093c53f-330e-4311-9fd9-634abe284fd5",
   "metadata": {},
   "outputs": [
    {
     "data": {
      "text/plain": [
       "Metabolite    Condition\n",
       "Metabolite1   Control       80.324499\n",
       "              Treatment     75.722223\n",
       "Metabolite10  Control       60.479187\n",
       "              Treatment     83.550176\n",
       "Metabolite2   Control       47.712037\n",
       "              Treatment     49.955735\n",
       "Metabolite3   Control       20.517690\n",
       "              Treatment     43.169796\n",
       "Metabolite4   Control       50.866943\n",
       "              Treatment     49.301095\n",
       "Metabolite5   Control       53.466520\n",
       "              Treatment     53.651424\n",
       "Metabolite6   Control       23.607715\n",
       "              Treatment     26.432982\n",
       "Metabolite7   Control      108.053252\n",
       "              Treatment     30.793521\n",
       "Metabolite8   Control       24.466194\n",
       "              Treatment     25.168069\n",
       "Metabolite9   Control       46.215224\n",
       "              Treatment     44.303595\n",
       "Name: Concentration, dtype: float64"
      ]
     },
     "execution_count": 312,
     "metadata": {},
     "output_type": "execute_result"
    }
   ],
   "source": [
    "#Grouping the data by metabolite and condition, then calculating the mean Concentration for each group.\n",
    "grouped_mean = df2.groupby(['Metabolite', 'Condition'])['Concentration'].mean()\n",
    "grouped_mean                           "
   ]
  },
  {
   "cell_type": "markdown",
   "id": "09bff1b5-d12c-42a9-863d-9a1fd14c1ef4",
   "metadata": {},
   "source": [
    "## 8. Visualizing the Data  \n",
    "o Seaborn: Create a boxplot showing the distribution of Concentration for each \n",
    "Metabolite.   \n",
    "o Matplotlib: Generate a bar plot of the mean Concentration for each \n",
    "Metabolite under different Conditions.  \n",
    "o Plotly: Create an interactive line plot showing Concentration trends across \n",
    "Replicates for one specific Metabolite  "
   ]
  },
  {
   "cell_type": "code",
   "execution_count": 401,
   "id": "bfd48adb-6cfc-463b-9bfe-be02e8f2f565",
   "metadata": {},
   "outputs": [
    {
     "data": {
      "image/png": "[encoded data removed]",
      "text/plain": [
       "<Figure size 800x1000 with 1 Axes>"
      ]
     },
     "metadata": {},
     "output_type": "display_data"
    }
   ],
   "source": [
    "def concentration_boxplot(df2, output_file):\n",
    "   import seaborn as sns\n",
    "   import matplotlib.pyplot as plt\n",
    "   \n",
    "   sns.set_theme(style=\"ticks\", palette=\"pastel\")   #setting theme \n",
    "   \n",
    "   #setting figure size, can be customized accordingly \n",
    "   plt.figure(figsize=(8, 10))\n",
    "   \n",
    "   #Drawing a boxplot, used addition wdith argument and customized the visualization \n",
    "   sns.boxplot(x=\"Metabolite\", y=\"Concentration\", hue=\"Condition\", \n",
    "               data=df2, width=0.7)\n",
    "   sns.despine(offset=10, trim=True)   #removing top and right borders of plot for a clean look \n",
    "   \n",
    "   plt.xticks(rotation=45)            #rotating labels for readibility \n",
    "   plt.tight_layout()                 #adjusting layout \n",
    "   plt.show()                         #to display \n",
    "   plt.savefig(output_file, dpi=300)  #saving an an image, gives an output file, setting resolution to 300 \n",
    "   plt.close() \n",
    "                                      #closing plot to prevent from overlapping with next plots \n",
    "\n",
    "plot_concentration_boxplot(df2, \"concentration_boxplot.png\")    #calling function and saving boxplot as an image "
   ]
  },
  {
   "cell_type": "code",
   "execution_count": 324,
   "id": "743706f0-b648-4c75-b9fe-d97801e48f7a",
   "metadata": {},
   "outputs": [
    {
     "name": "stderr",
     "output_type": "stream",
     "text": [
      "C:\\Users\\hp\\AppData\\Local\\Temp\\ipykernel_12876\\2847605485.py:32: UserWarning: The figure layout has changed to tight\n",
      "  plt.tight_layout()\n"
     ]
    },
    {
     "data": {
      "image/png": "[encoded data removed]",
      "text/plain": [
       "<Figure size 1200x600 with 1 Axes>"
      ]
     },
     "metadata": {},
     "output_type": "display_data"
    }
   ],
   "source": [
    "def plot_mean_concentrations(df, output_file):\n",
    "    #Plotting bar chart of mean concentrations for each metabolite under different conditions\n",
    "    import matplotlib.pyplot as plt\n",
    "    import numpy as np\n",
    "    \n",
    "    #Calculating mean concentrations for each metabolite under different conditions\n",
    "    metabolite_means = df.groupby(['Metabolite', 'Condition'])['Concentration'].mean().unstack()\n",
    "    \n",
    "    #Get unique metabolites and conditions\n",
    "    metabolites = metabolite_means.index.tolist()\n",
    "    conditions = metabolite_means.columns.tolist()\n",
    "    \n",
    "    x = np.arange(len(metabolites))  # the label locations\n",
    "    width = 0.25  # the width of the bars\n",
    "    multiplier = 0\n",
    "    \n",
    "    fig, ax = plt.subplots(figsize=(12, 6), layout='constrained')\n",
    "    \n",
    "    for condition in conditions:\n",
    "        offset = width * multiplier\n",
    "        values = metabolite_means[condition].values\n",
    "        rects = ax.bar(x + offset, values, width, label=condition)\n",
    "        ax.bar_label(rects, padding=3, fontsize=8)\n",
    "        multiplier += 1\n",
    "    \n",
    "    # Add labels, title and custom x-axis tick labels\n",
    "    ax.set_ylabel('Mean Concentration (µM)')\n",
    "    ax.set_title('Mean Concentration of Metabolites under Different Conditions')\n",
    "    ax.set_xticks(x + width, metabolites, rotation=45, ha='right')\n",
    "    ax.legend(loc='upper left')\n",
    "    \n",
    "    plt.tight_layout()\n",
    "    plt.show()\n",
    "    plt.savefig(output_file, dpi=300)\n",
    "    plt.close()\n",
    "\n",
    "\n",
    "plot_mean_concentrations(df2, \"mean_concentrations.png\")"
   ]
  },
  {
   "cell_type": "code",
   "execution_count": 344,
   "id": "afa56c26-684c-47cc-9fa5-d15b20c42726",
   "metadata": {},
   "outputs": [
    {
     "data": {
      "application/vnd.plotly.v1+json": {
       "config": {
        "plotlyServerURL": "https://plot.ly"
       },
       "data": [
        {
         "hovertemplate": "Condition=Control<br>Replicate Number=%{x}<br>Concentration (µM)=%{y}<extra></extra>",
         "legendgroup": "Control",
         "line": {
          "color": "#636efa",
          "dash": "solid"
         },
         "marker": {
          "symbol": "circle"
         },
         "mode": "lines+markers",
         "name": "Control",
         "orientation": "v",
         "showlegend": true,
         "type": "scatter",
         "x": [
          1,
          2,
          3,
          4,
          5
         ],
         "xaxis": "x",
         "y": [
          18.28182614713128,
          17.832467896758065,
          27.87613012913241,
          30.59470116001553,
          23.453450409259748
         ],
         "yaxis": "y"
        },
        {
         "hovertemplate": "Condition=Treatment<br>Replicate Number=%{x}<br>Concentration (µM)=%{y}<extra></extra>",
         "legendgroup": "Treatment",
         "line": {
          "color": "#EF553B",
          "dash": "solid"
         },
         "marker": {
          "symbol": "circle"
         },
         "mode": "lines+markers",
         "name": "Treatment",
         "orientation": "v",
         "showlegend": true,
         "type": "scatter",
         "x": [
          1,
          2,
          3,
          4,
          5
         ],
         "xaxis": "x",
         "y": [
          28.831165506621534,
          25.621681142399588,
          20.5879022441358,
          25.620479044703487,
          31.503683849491264
         ],
         "yaxis": "y"
        }
       ],
       "layout": {
        "autosize": true,
        "legend": {
         "title": {
          "text": "Condition"
         },
         "tracegroupgap": 0
        },
        "template": {
         "data": {
          "bar": [
           {
            "error_x": {
             "color": "#2a3f5f"
            },
            "error_y": {
             "color": "#2a3f5f"
            },
            "marker": {
             "line": {
              "color": "#E5ECF6",
              "width": 0.5
             },
             "pattern": {
              "fillmode": "overlay",
              "size": 10,
              "solidity": 0.2
             }
            },
            "type": "bar"
           }
          ],
          "barpolar": [
           {
            "marker": {
             "line": {
              "color": "#E5ECF6",
              "width": 0.5
             },
             "pattern": {
              "fillmode": "overlay",
              "size": 10,
              "solidity": 0.2
             }
            },
            "type": "barpolar"
           }
          ],
          "carpet": [
           {
            "aaxis": {
             "endlinecolor": "#2a3f5f",
             "gridcolor": "white",
             "linecolor": "white",
             "minorgridcolor": "white",
             "startlinecolor": "#2a3f5f"
            },
            "baxis": {
             "endlinecolor": "#2a3f5f",
             "gridcolor": "white",
             "linecolor": "white",
             "minorgridcolor": "white",
             "startlinecolor": "#2a3f5f"
            },
            "type": "carpet"
           }
          ],
          "choropleth": [
           {
            "colorbar": {
             "outlinewidth": 0,
             "ticks": ""
            },
            "type": "choropleth"
           }
          ],
          "contour": [
           {
            "colorbar": {
             "outlinewidth": 0,
             "ticks": ""
            },
            "colorscale": [
             [
              0,
              "#0d0887"
             ],
             [
              0.1111111111111111,
              "#46039f"
             ],
             [
              0.2222222222222222,
              "#7201a8"
             ],
             [
              0.3333333333333333,
              "#9c179e"
             ],
             [
              0.4444444444444444,
              "#bd3786"
             ],
             [
              0.5555555555555556,
              "#d8576b"
             ],
             [
              0.6666666666666666,
              "#ed7953"
             ],
             [
              0.7777777777777778,
              "#fb9f3a"
             ],
             [
              0.8888888888888888,
              "#fdca26"
             ],
             [
              1,
              "#f0f921"
             ]
            ],
            "type": "contour"
           }
          ],
          "contourcarpet": [
           {
            "colorbar": {
             "outlinewidth": 0,
             "ticks": ""
            },
            "type": "contourcarpet"
           }
          ],
          "heatmap": [
           {
            "colorbar": {
             "outlinewidth": 0,
             "ticks": ""
            },
            "colorscale": [
             [
              0,
              "#0d0887"
             ],
             [
              0.1111111111111111,
              "#46039f"
             ],
             [
              0.2222222222222222,
              "#7201a8"
             ],
             [
              0.3333333333333333,
              "#9c179e"
             ],
             [
              0.4444444444444444,
              "#bd3786"
             ],
             [
              0.5555555555555556,
              "#d8576b"
             ],
             [
              0.6666666666666666,
              "#ed7953"
             ],
             [
              0.7777777777777778,
              "#fb9f3a"
             ],
             [
              0.8888888888888888,
              "#fdca26"
             ],
             [
              1,
              "#f0f921"
             ]
            ],
            "type": "heatmap"
           }
          ],
          "heatmapgl": [
           {
            "colorbar": {
             "outlinewidth": 0,
             "ticks": ""
            },
            "colorscale": [
             [
              0,
              "#0d0887"
             ],
             [
              0.1111111111111111,
              "#46039f"
             ],
             [
              0.2222222222222222,
              "#7201a8"
             ],
             [
              0.3333333333333333,
              "#9c179e"
             ],
             [
              0.4444444444444444,
              "#bd3786"
             ],
             [
              0.5555555555555556,
              "#d8576b"
             ],
             [
              0.6666666666666666,
              "#ed7953"
             ],
             [
              0.7777777777777778,
              "#fb9f3a"
             ],
             [
              0.8888888888888888,
              "#fdca26"
             ],
             [
              1,
              "#f0f921"
             ]
            ],
            "type": "heatmapgl"
           }
          ],
          "histogram": [
           {
            "marker": {
             "pattern": {
              "fillmode": "overlay",
              "size": 10,
              "solidity": 0.2
             }
            },
            "type": "histogram"
           }
          ],
          "histogram2d": [
           {
            "colorbar": {
             "outlinewidth": 0,
             "ticks": ""
            },
            "colorscale": [
             [
              0,
              "#0d0887"
             ],
             [
              0.1111111111111111,
              "#46039f"
             ],
             [
              0.2222222222222222,
              "#7201a8"
             ],
             [
              0.3333333333333333,
              "#9c179e"
             ],
             [
              0.4444444444444444,
              "#bd3786"
             ],
             [
              0.5555555555555556,
              "#d8576b"
             ],
             [
              0.6666666666666666,
              "#ed7953"
             ],
             [
              0.7777777777777778,
              "#fb9f3a"
             ],
             [
              0.8888888888888888,
              "#fdca26"
             ],
             [
              1,
              "#f0f921"
             ]
            ],
            "type": "histogram2d"
           }
          ],
          "histogram2dcontour": [
           {
            "colorbar": {
             "outlinewidth": 0,
             "ticks": ""
            },
            "colorscale": [
             [
              0,
              "#0d0887"
             ],
             [
              0.1111111111111111,
              "#46039f"
             ],
             [
              0.2222222222222222,
              "#7201a8"
             ],
             [
              0.3333333333333333,
              "#9c179e"
             ],
             [
              0.4444444444444444,
              "#bd3786"
             ],
             [
              0.5555555555555556,
              "#d8576b"
             ],
             [
              0.6666666666666666,
              "#ed7953"
             ],
             [
              0.7777777777777778,
              "#fb9f3a"
             ],
             [
              0.8888888888888888,
              "#fdca26"
             ],
             [
              1,
              "#f0f921"
             ]
            ],
            "type": "histogram2dcontour"
           }
          ],
          "mesh3d": [
           {
            "colorbar": {
             "outlinewidth": 0,
             "ticks": ""
            },
            "type": "mesh3d"
           }
          ],
          "parcoords": [
           {
            "line": {
             "colorbar": {
              "outlinewidth": 0,
              "ticks": ""
             }
            },
            "type": "parcoords"
           }
          ],
          "pie": [
           {
            "automargin": true,
            "type": "pie"
           }
          ],
          "scatter": [
           {
            "fillpattern": {
             "fillmode": "overlay",
             "size": 10,
             "solidity": 0.2
            },
            "type": "scatter"
           }
          ],
          "scatter3d": [
           {
            "line": {
             "colorbar": {
              "outlinewidth": 0,
              "ticks": ""
             }
            },
            "marker": {
             "colorbar": {
              "outlinewidth": 0,
              "ticks": ""
             }
            },
            "type": "scatter3d"
           }
          ],
          "scattercarpet": [
           {
            "marker": {
             "colorbar": {
              "outlinewidth": 0,
              "ticks": ""
             }
            },
            "type": "scattercarpet"
           }
          ],
          "scattergeo": [
           {
            "marker": {
             "colorbar": {
              "outlinewidth": 0,
              "ticks": ""
             }
            },
            "type": "scattergeo"
           }
          ],
          "scattergl": [
           {
            "marker": {
             "colorbar": {
              "outlinewidth": 0,
              "ticks": ""
             }
            },
            "type": "scattergl"
           }
          ],
          "scattermapbox": [
           {
            "marker": {
             "colorbar": {
              "outlinewidth": 0,
              "ticks": ""
             }
            },
            "type": "scattermapbox"
           }
          ],
          "scatterpolar": [
           {
            "marker": {
             "colorbar": {
              "outlinewidth": 0,
              "ticks": ""
             }
            },
            "type": "scatterpolar"
           }
          ],
          "scatterpolargl": [
           {
            "marker": {
             "colorbar": {
              "outlinewidth": 0,
              "ticks": ""
             }
            },
            "type": "scatterpolargl"
           }
          ],
          "scatterternary": [
           {
            "marker": {
             "colorbar": {
              "outlinewidth": 0,
              "ticks": ""
             }
            },
            "type": "scatterternary"
           }
          ],
          "surface": [
           {
            "colorbar": {
             "outlinewidth": 0,
             "ticks": ""
            },
            "colorscale": [
             [
              0,
              "#0d0887"
             ],
             [
              0.1111111111111111,
              "#46039f"
             ],
             [
              0.2222222222222222,
              "#7201a8"
             ],
             [
              0.3333333333333333,
              "#9c179e"
             ],
             [
              0.4444444444444444,
              "#bd3786"
             ],
             [
              0.5555555555555556,
              "#d8576b"
             ],
             [
              0.6666666666666666,
              "#ed7953"
             ],
             [
              0.7777777777777778,
              "#fb9f3a"
             ],
             [
              0.8888888888888888,
              "#fdca26"
             ],
             [
              1,
              "#f0f921"
             ]
            ],
            "type": "surface"
           }
          ],
          "table": [
           {
            "cells": {
             "fill": {
              "color": "#EBF0F8"
             },
             "line": {
              "color": "white"
             }
            },
            "header": {
             "fill": {
              "color": "#C8D4E3"
             },
             "line": {
              "color": "white"
             }
            },
            "type": "table"
           }
          ]
         },
         "layout": {
          "annotationdefaults": {
           "arrowcolor": "#2a3f5f",
           "arrowhead": 0,
           "arrowwidth": 1
          },
          "autotypenumbers": "strict",
          "coloraxis": {
           "colorbar": {
            "outlinewidth": 0,
            "ticks": ""
           }
          },
          "colorscale": {
           "diverging": [
            [
             0,
             "#8e0152"
            ],
            [
             0.1,
             "#c51b7d"
            ],
            [
             0.2,
             "#de77ae"
            ],
            [
             0.3,
             "#f1b6da"
            ],
            [
             0.4,
             "#fde0ef"
            ],
            [
             0.5,
             "#f7f7f7"
            ],
            [
             0.6,
             "#e6f5d0"
            ],
            [
             0.7,
             "#b8e186"
            ],
            [
             0.8,
             "#7fbc41"
            ],
            [
             0.9,
             "#4d9221"
            ],
            [
             1,
             "#276419"
            ]
           ],
           "sequential": [
            [
             0,
             "#0d0887"
            ],
            [
             0.1111111111111111,
             "#46039f"
            ],
            [
             0.2222222222222222,
             "#7201a8"
            ],
            [
             0.3333333333333333,
             "#9c179e"
            ],
            [
             0.4444444444444444,
             "#bd3786"
            ],
            [
             0.5555555555555556,
             "#d8576b"
            ],
            [
             0.6666666666666666,
             "#ed7953"
            ],
            [
             0.7777777777777778,
             "#fb9f3a"
            ],
            [
             0.8888888888888888,
             "#fdca26"
            ],
            [
             1,
             "#f0f921"
            ]
           ],
           "sequentialminus": [
            [
             0,
             "#0d0887"
            ],
            [
             0.1111111111111111,
             "#46039f"
            ],
            [
             0.2222222222222222,
             "#7201a8"
            ],
            [
             0.3333333333333333,
             "#9c179e"
            ],
            [
             0.4444444444444444,
             "#bd3786"
            ],
            [
             0.5555555555555556,
             "#d8576b"
            ],
            [
             0.6666666666666666,
             "#ed7953"
            ],
            [
             0.7777777777777778,
             "#fb9f3a"
            ],
            [
             0.8888888888888888,
             "#fdca26"
            ],
            [
             1,
             "#f0f921"
            ]
           ]
          },
          "colorway": [
           "#636efa",
           "#EF553B",
           "#00cc96",
           "#ab63fa",
           "#FFA15A",
           "#19d3f3",
           "#FF6692",
           "#B6E880",
           "#FF97FF",
           "#FECB52"
          ],
          "font": {
           "color": "#2a3f5f"
          },
          "geo": {
           "bgcolor": "white",
           "lakecolor": "white",
           "landcolor": "#E5ECF6",
           "showlakes": true,
           "showland": true,
           "subunitcolor": "white"
          },
          "hoverlabel": {
           "align": "left"
          },
          "hovermode": "closest",
          "mapbox": {
           "style": "light"
          },
          "paper_bgcolor": "white",
          "plot_bgcolor": "#E5ECF6",
          "polar": {
           "angularaxis": {
            "gridcolor": "white",
            "linecolor": "white",
            "ticks": ""
           },
           "bgcolor": "#E5ECF6",
           "radialaxis": {
            "gridcolor": "white",
            "linecolor": "white",
            "ticks": ""
           }
          },
          "scene": {
           "xaxis": {
            "backgroundcolor": "#E5ECF6",
            "gridcolor": "white",
            "gridwidth": 2,
            "linecolor": "white",
            "showbackground": true,
            "ticks": "",
            "zerolinecolor": "white"
           },
           "yaxis": {
            "backgroundcolor": "#E5ECF6",
            "gridcolor": "white",
            "gridwidth": 2,
            "linecolor": "white",
            "showbackground": true,
            "ticks": "",
            "zerolinecolor": "white"
           },
           "zaxis": {
            "backgroundcolor": "#E5ECF6",
            "gridcolor": "white",
            "gridwidth": 2,
            "linecolor": "white",
            "showbackground": true,
            "ticks": "",
            "zerolinecolor": "white"
           }
          },
          "shapedefaults": {
           "line": {
            "color": "#2a3f5f"
           }
          },
          "ternary": {
           "aaxis": {
            "gridcolor": "white",
            "linecolor": "white",
            "ticks": ""
           },
           "baxis": {
            "gridcolor": "white",
            "linecolor": "white",
            "ticks": ""
           },
           "bgcolor": "#E5ECF6",
           "caxis": {
            "gridcolor": "white",
            "linecolor": "white",
            "ticks": ""
           }
          },
          "title": {
           "x": 0.05
          },
          "xaxis": {
           "automargin": true,
           "gridcolor": "white",
           "linecolor": "white",
           "ticks": "",
           "title": {
            "standoff": 15
           },
           "zerolinecolor": "white",
           "zerolinewidth": 2
          },
          "yaxis": {
           "automargin": true,
           "gridcolor": "white",
           "linecolor": "white",
           "ticks": "",
           "title": {
            "standoff": 15
           },
           "zerolinecolor": "white",
           "zerolinewidth": 2
          }
         }
        },
        "title": {
         "text": "Concentration Trends for Metabolite6"
        },
        "xaxis": {
         "anchor": "y",
         "autorange": true,
         "domain": [
          0,
          1
         ],
         "range": [
          0.7565571683218743,
          5.243442831678125
         ],
         "title": {
          "text": "Replicate Number"
         },
         "type": "linear"
        },
        "yaxis": {
         "anchor": "x",
         "autorange": true,
         "domain": [
          0,
          1
         ],
         "range": [
          16.704260755027654,
          32.631890991221674
         ],
         "title": {
          "text": "Concentration (µM)"
         },
         "type": "linear"
        }
       }
      },
      "image/png": "[encoded data removed]",
      "text/html": [
       "<div>                            <div id=\"94f44f56-8086-4e23-aaa1-8e3b5dc9214f\" class=\"plotly-graph-div\" style=\"height:525px; width:100%;\"></div>            <script type=\"text/javascript\">                require([\"plotly\"], function(Plotly) {                    window.PLOTLYENV=window.PLOTLYENV || {};                                    if (document.getElementById(\"94f44f56-8086-4e23-aaa1-8e3b5dc9214f\")) {                    Plotly.newPlot(                        \"94f44f56-8086-4e23-aaa1-8e3b5dc9214f\",                        [{\"hovertemplate\":\"Condition=Control\\u003cbr\\u003eReplicate Number=%{x}\\u003cbr\\u003eConcentration (\\u00b5M)=%{y}\\u003cextra\\u003e\\u003c\\u002fextra\\u003e\",\"legendgroup\":\"Control\",\"line\":{\"color\":\"#636efa\",\"dash\":\"solid\"},\"marker\":{\"symbol\":\"circle\"},\"mode\":\"lines+markers\",\"name\":\"Control\",\"orientation\":\"v\",\"showlegend\":true,\"x\":[1,2,3,4,5],\"xaxis\":\"x\",\"y\":[18.28182614713128,17.832467896758065,27.87613012913241,30.59470116001553,23.453450409259748],\"yaxis\":\"y\",\"type\":\"scatter\"},{\"hovertemplate\":\"Condition=Treatment\\u003cbr\\u003eReplicate Number=%{x}\\u003cbr\\u003eConcentration (\\u00b5M)=%{y}\\u003cextra\\u003e\\u003c\\u002fextra\\u003e\",\"legendgroup\":\"Treatment\",\"line\":{\"color\":\"#EF553B\",\"dash\":\"solid\"},\"marker\":{\"symbol\":\"circle\"},\"mode\":\"lines+markers\",\"name\":\"Treatment\",\"orientation\":\"v\",\"showlegend\":true,\"x\":[1,2,3,4,5],\"xaxis\":\"x\",\"y\":[28.831165506621534,25.621681142399588,20.5879022441358,25.620479044703487,31.503683849491264],\"yaxis\":\"y\",\"type\":\"scatter\"}],                        {\"template\":{\"data\":{\"histogram2dcontour\":[{\"type\":\"histogram2dcontour\",\"colorbar\":{\"outlinewidth\":0,\"ticks\":\"\"},\"colorscale\":[[0.0,\"#0d0887\"],[0.1111111111111111,\"#46039f\"],[0.2222222222222222,\"#7201a8\"],[0.3333333333333333,\"#9c179e\"],[0.4444444444444444,\"#bd3786\"],[0.5555555555555556,\"#d8576b\"],[0.6666666666666666,\"#ed7953\"],[0.7777777777777778,\"#fb9f3a\"],[0.8888888888888888,\"#fdca26\"],[1.0,\"#f0f921\"]]}],\"choropleth\":[{\"type\":\"choropleth\",\"colorbar\":{\"outlinewidth\":0,\"ticks\":\"\"}}],\"histogram2d\":[{\"type\":\"histogram2d\",\"colorbar\":{\"outlinewidth\":0,\"ticks\":\"\"},\"colorscale\":[[0.0,\"#0d0887\"],[0.1111111111111111,\"#46039f\"],[0.2222222222222222,\"#7201a8\"],[0.3333333333333333,\"#9c179e\"],[0.4444444444444444,\"#bd3786\"],[0.5555555555555556,\"#d8576b\"],[0.6666666666666666,\"#ed7953\"],[0.7777777777777778,\"#fb9f3a\"],[0.8888888888888888,\"#fdca26\"],[1.0,\"#f0f921\"]]}],\"heatmap\":[{\"type\":\"heatmap\",\"colorbar\":{\"outlinewidth\":0,\"ticks\":\"\"},\"colorscale\":[[0.0,\"#0d0887\"],[0.1111111111111111,\"#46039f\"],[0.2222222222222222,\"#7201a8\"],[0.3333333333333333,\"#9c179e\"],[0.4444444444444444,\"#bd3786\"],[0.5555555555555556,\"#d8576b\"],[0.6666666666666666,\"#ed7953\"],[0.7777777777777778,\"#fb9f3a\"],[0.8888888888888888,\"#fdca26\"],[1.0,\"#f0f921\"]]}],\"heatmapgl\":[{\"type\":\"heatmapgl\",\"colorbar\":{\"outlinewidth\":0,\"ticks\":\"\"},\"colorscale\":[[0.0,\"#0d0887\"],[0.1111111111111111,\"#46039f\"],[0.2222222222222222,\"#7201a8\"],[0.3333333333333333,\"#9c179e\"],[0.4444444444444444,\"#bd3786\"],[0.5555555555555556,\"#d8576b\"],[0.6666666666666666,\"#ed7953\"],[0.7777777777777778,\"#fb9f3a\"],[0.8888888888888888,\"#fdca26\"],[1.0,\"#f0f921\"]]}],\"contourcarpet\":[{\"type\":\"contourcarpet\",\"colorbar\":{\"outlinewidth\":0,\"ticks\":\"\"}}],\"contour\":[{\"type\":\"contour\",\"colorbar\":{\"outlinewidth\":0,\"ticks\":\"\"},\"colorscale\":[[0.0,\"#0d0887\"],[0.1111111111111111,\"#46039f\"],[0.2222222222222222,\"#7201a8\"],[0.3333333333333333,\"#9c179e\"],[0.4444444444444444,\"#bd3786\"],[0.5555555555555556,\"#d8576b\"],[0.6666666666666666,\"#ed7953\"],[0.7777777777777778,\"#fb9f3a\"],[0.8888888888888888,\"#fdca26\"],[1.0,\"#f0f921\"]]}],\"surface\":[{\"type\":\"surface\",\"colorbar\":{\"outlinewidth\":0,\"ticks\":\"\"},\"colorscale\":[[0.0,\"#0d0887\"],[0.1111111111111111,\"#46039f\"],[0.2222222222222222,\"#7201a8\"],[0.3333333333333333,\"#9c179e\"],[0.4444444444444444,\"#bd3786\"],[0.5555555555555556,\"#d8576b\"],[0.6666666666666666,\"#ed7953\"],[0.7777777777777778,\"#fb9f3a\"],[0.8888888888888888,\"#fdca26\"],[1.0,\"#f0f921\"]]}],\"mesh3d\":[{\"type\":\"mesh3d\",\"colorbar\":{\"outlinewidth\":0,\"ticks\":\"\"}}],\"scatter\":[{\"fillpattern\":{\"fillmode\":\"overlay\",\"size\":10,\"solidity\":0.2},\"type\":\"scatter\"}],\"parcoords\":[{\"type\":\"parcoords\",\"line\":{\"colorbar\":{\"outlinewidth\":0,\"ticks\":\"\"}}}],\"scatterpolargl\":[{\"type\":\"scatterpolargl\",\"marker\":{\"colorbar\":{\"outlinewidth\":0,\"ticks\":\"\"}}}],\"bar\":[{\"error_x\":{\"color\":\"#2a3f5f\"},\"error_y\":{\"color\":\"#2a3f5f\"},\"marker\":{\"line\":{\"color\":\"#E5ECF6\",\"width\":0.5},\"pattern\":{\"fillmode\":\"overlay\",\"size\":10,\"solidity\":0.2}},\"type\":\"bar\"}],\"scattergeo\":[{\"type\":\"scattergeo\",\"marker\":{\"colorbar\":{\"outlinewidth\":0,\"ticks\":\"\"}}}],\"scatterpolar\":[{\"type\":\"scatterpolar\",\"marker\":{\"colorbar\":{\"outlinewidth\":0,\"ticks\":\"\"}}}],\"histogram\":[{\"marker\":{\"pattern\":{\"fillmode\":\"overlay\",\"size\":10,\"solidity\":0.2}},\"type\":\"histogram\"}],\"scattergl\":[{\"type\":\"scattergl\",\"marker\":{\"colorbar\":{\"outlinewidth\":0,\"ticks\":\"\"}}}],\"scatter3d\":[{\"type\":\"scatter3d\",\"line\":{\"colorbar\":{\"outlinewidth\":0,\"ticks\":\"\"}},\"marker\":{\"colorbar\":{\"outlinewidth\":0,\"ticks\":\"\"}}}],\"scattermapbox\":[{\"type\":\"scattermapbox\",\"marker\":{\"colorbar\":{\"outlinewidth\":0,\"ticks\":\"\"}}}],\"scatterternary\":[{\"type\":\"scatterternary\",\"marker\":{\"colorbar\":{\"outlinewidth\":0,\"ticks\":\"\"}}}],\"scattercarpet\":[{\"type\":\"scattercarpet\",\"marker\":{\"colorbar\":{\"outlinewidth\":0,\"ticks\":\"\"}}}],\"carpet\":[{\"aaxis\":{\"endlinecolor\":\"#2a3f5f\",\"gridcolor\":\"white\",\"linecolor\":\"white\",\"minorgridcolor\":\"white\",\"startlinecolor\":\"#2a3f5f\"},\"baxis\":{\"endlinecolor\":\"#2a3f5f\",\"gridcolor\":\"white\",\"linecolor\":\"white\",\"minorgridcolor\":\"white\",\"startlinecolor\":\"#2a3f5f\"},\"type\":\"carpet\"}],\"table\":[{\"cells\":{\"fill\":{\"color\":\"#EBF0F8\"},\"line\":{\"color\":\"white\"}},\"header\":{\"fill\":{\"color\":\"#C8D4E3\"},\"line\":{\"color\":\"white\"}},\"type\":\"table\"}],\"barpolar\":[{\"marker\":{\"line\":{\"color\":\"#E5ECF6\",\"width\":0.5},\"pattern\":{\"fillmode\":\"overlay\",\"size\":10,\"solidity\":0.2}},\"type\":\"barpolar\"}],\"pie\":[{\"automargin\":true,\"type\":\"pie\"}]},\"layout\":{\"autotypenumbers\":\"strict\",\"colorway\":[\"#636efa\",\"#EF553B\",\"#00cc96\",\"#ab63fa\",\"#FFA15A\",\"#19d3f3\",\"#FF6692\",\"#B6E880\",\"#FF97FF\",\"#FECB52\"],\"font\":{\"color\":\"#2a3f5f\"},\"hovermode\":\"closest\",\"hoverlabel\":{\"align\":\"left\"},\"paper_bgcolor\":\"white\",\"plot_bgcolor\":\"#E5ECF6\",\"polar\":{\"bgcolor\":\"#E5ECF6\",\"angularaxis\":{\"gridcolor\":\"white\",\"linecolor\":\"white\",\"ticks\":\"\"},\"radialaxis\":{\"gridcolor\":\"white\",\"linecolor\":\"white\",\"ticks\":\"\"}},\"ternary\":{\"bgcolor\":\"#E5ECF6\",\"aaxis\":{\"gridcolor\":\"white\",\"linecolor\":\"white\",\"ticks\":\"\"},\"baxis\":{\"gridcolor\":\"white\",\"linecolor\":\"white\",\"ticks\":\"\"},\"caxis\":{\"gridcolor\":\"white\",\"linecolor\":\"white\",\"ticks\":\"\"}},\"coloraxis\":{\"colorbar\":{\"outlinewidth\":0,\"ticks\":\"\"}},\"colorscale\":{\"sequential\":[[0.0,\"#0d0887\"],[0.1111111111111111,\"#46039f\"],[0.2222222222222222,\"#7201a8\"],[0.3333333333333333,\"#9c179e\"],[0.4444444444444444,\"#bd3786\"],[0.5555555555555556,\"#d8576b\"],[0.6666666666666666,\"#ed7953\"],[0.7777777777777778,\"#fb9f3a\"],[0.8888888888888888,\"#fdca26\"],[1.0,\"#f0f921\"]],\"sequentialminus\":[[0.0,\"#0d0887\"],[0.1111111111111111,\"#46039f\"],[0.2222222222222222,\"#7201a8\"],[0.3333333333333333,\"#9c179e\"],[0.4444444444444444,\"#bd3786\"],[0.5555555555555556,\"#d8576b\"],[0.6666666666666666,\"#ed7953\"],[0.7777777777777778,\"#fb9f3a\"],[0.8888888888888888,\"#fdca26\"],[1.0,\"#f0f921\"]],\"diverging\":[[0,\"#8e0152\"],[0.1,\"#c51b7d\"],[0.2,\"#de77ae\"],[0.3,\"#f1b6da\"],[0.4,\"#fde0ef\"],[0.5,\"#f7f7f7\"],[0.6,\"#e6f5d0\"],[0.7,\"#b8e186\"],[0.8,\"#7fbc41\"],[0.9,\"#4d9221\"],[1,\"#276419\"]]},\"xaxis\":{\"gridcolor\":\"white\",\"linecolor\":\"white\",\"ticks\":\"\",\"title\":{\"standoff\":15},\"zerolinecolor\":\"white\",\"automargin\":true,\"zerolinewidth\":2},\"yaxis\":{\"gridcolor\":\"white\",\"linecolor\":\"white\",\"ticks\":\"\",\"title\":{\"standoff\":15},\"zerolinecolor\":\"white\",\"automargin\":true,\"zerolinewidth\":2},\"scene\":{\"xaxis\":{\"backgroundcolor\":\"#E5ECF6\",\"gridcolor\":\"white\",\"linecolor\":\"white\",\"showbackground\":true,\"ticks\":\"\",\"zerolinecolor\":\"white\",\"gridwidth\":2},\"yaxis\":{\"backgroundcolor\":\"#E5ECF6\",\"gridcolor\":\"white\",\"linecolor\":\"white\",\"showbackground\":true,\"ticks\":\"\",\"zerolinecolor\":\"white\",\"gridwidth\":2},\"zaxis\":{\"backgroundcolor\":\"#E5ECF6\",\"gridcolor\":\"white\",\"linecolor\":\"white\",\"showbackground\":true,\"ticks\":\"\",\"zerolinecolor\":\"white\",\"gridwidth\":2}},\"shapedefaults\":{\"line\":{\"color\":\"#2a3f5f\"}},\"annotationdefaults\":{\"arrowcolor\":\"#2a3f5f\",\"arrowhead\":0,\"arrowwidth\":1},\"geo\":{\"bgcolor\":\"white\",\"landcolor\":\"#E5ECF6\",\"subunitcolor\":\"white\",\"showland\":true,\"showlakes\":true,\"lakecolor\":\"white\"},\"title\":{\"x\":0.05},\"mapbox\":{\"style\":\"light\"}}},\"xaxis\":{\"anchor\":\"y\",\"domain\":[0.0,1.0],\"title\":{\"text\":\"Replicate Number\"}},\"yaxis\":{\"anchor\":\"x\",\"domain\":[0.0,1.0],\"title\":{\"text\":\"Concentration (\\u00b5M)\"}},\"legend\":{\"title\":{\"text\":\"Condition\"},\"tracegroupgap\":0},\"title\":{\"text\":\"Concentration Trends for Metabolite6\"}},                        {\"responsive\": true}                    ).then(function(){\n",
       "                            \n",
       "var gd = document.getElementById('94f44f56-8086-4e23-aaa1-8e3b5dc9214f');\n",
       "var x = new MutationObserver(function (mutations, observer) {{\n",
       "        var display = window.getComputedStyle(gd).display;\n",
       "        if (!display || display === 'none') {{\n",
       "            console.log([gd, 'removed!']);\n",
       "            Plotly.purge(gd);\n",
       "            observer.disconnect();\n",
       "        }}\n",
       "}});\n",
       "\n",
       "// Listen for the removal of the full notebook cells\n",
       "var notebookContainer = gd.closest('#notebook-container');\n",
       "if (notebookContainer) {{\n",
       "    x.observe(notebookContainer, {childList: true});\n",
       "}}\n",
       "\n",
       "// Listen for the clearing of the current output cell\n",
       "var outputEl = gd.closest('.output');\n",
       "if (outputEl) {{\n",
       "    x.observe(outputEl, {childList: true});\n",
       "}}\n",
       "\n",
       "                        })                };                });            </script>        </div>"
      ]
     },
     "metadata": {},
     "output_type": "display_data"
    },
    {
     "name": "stdout",
     "output_type": "stream",
     "text": [
      "Interactive plot saved as metabolite_line_chart.html\n"
     ]
    }
   ],
   "source": [
    "def plot_metabolite_line_chart(df2, metabolite_name, output_file):\n",
    "    #Creating interactive line plot showing concentration trends across replicates for a specific metabolite\n",
    "    import plotly.express as px\n",
    "    \n",
    "    #Filtering data for the specific metabolite \n",
    "    metabolite_df = df2[df2['Metabolite'] == metabolite_name]\n",
    "    \n",
    "    #Creating line plot \n",
    "    fig = px.line(metabolite_df, \n",
    "                  x='Replicate', \n",
    "                  y='Concentration', \n",
    "                  color='Condition', \n",
    "                  markers=True,\n",
    "                  title=f'Concentration Trends for {metabolite_name}',\n",
    "                  labels={'Concentration': 'Concentration (µM)', \n",
    "                         'Replicate': 'Replicate Number'})\n",
    "    \n",
    "    fig.show()\n",
    "    \n",
    "    #Save as HTML file\n",
    "    fig.write_html(output_file)\n",
    "    print(f\"Interactive plot saved as {output_file}\")\n",
    "\n",
    "available_metabolites = df2['Metabolite'].unique()\n",
    "selected_metabolite = available_metabolites[5]  # Choose metabolite of choice\n",
    "plot_metabolite_line_chart(df2, selected_metabolite, \"metabolite_line_chart.html\")"
   ]
  },
  {
   "cell_type": "code",
   "execution_count": null,
   "id": "d909abbd-a44b-47ac-b6c4-9e61e77755a1",
   "metadata": {},
   "outputs": [],
   "source": []
  }
 ],
 "metadata": {
  "kernelspec": {
   "display_name": "Python 3 (ipykernel)",
   "language": "python",
   "name": "python3"
  },
  "language_info": {
   "codemirror_mode": {
    "name": "ipython",
    "version": 3
   },
   "file_extension": ".py",
   "mimetype": "text/x-python",
   "name": "python",
   "nbconvert_exporter": "python",
   "pygments_lexer": "ipython3",
   "version": "3.12.7"
  }
 },
 "nbformat": 4,
 "nbformat_minor": 5
}
